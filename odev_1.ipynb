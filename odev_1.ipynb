{
 "cells": [
  {
   "cell_type": "markdown",
   "id": "c1dbafa1",
   "metadata": {},
   "source": [
    "***Tekrar***"
   ]
  },
  {
   "cell_type": "code",
   "execution_count": 4,
   "id": "0de91751",
   "metadata": {},
   "outputs": [
    {
     "name": "stdout",
     "output_type": "stream",
     "text": [
      "veri bilimi okulu\n",
      "v\n",
      "veri\n",
      "bilim\n",
      "okulu\n",
      "veri bilimi okuluveri bilimi okulu\n",
      "veri bilimi okulu başlıyor\n"
     ]
    }
   ],
   "source": [
    "yazi=\"veri bilimi okulu\"\n",
    "print(yazi)\n",
    "print(yazi[0])\n",
    "print(yazi[0:4])\n",
    "print(yazi[5:10])\n",
    "print(yazi[12:])\n",
    "print(yazi*2)\n",
    "print(yazi + \" başlıyor\")"
   ]
  },
  {
   "cell_type": "code",
   "execution_count": 6,
   "id": "3d8e6168",
   "metadata": {},
   "outputs": [
    {
     "name": "stdout",
     "output_type": "stream",
     "text": [
      "['okul', 5, 25, 'semih', 9]\n",
      "okul\n",
      "['okul', 5, 25]\n",
      "[25, 'semih', 9]\n",
      "[1000, 'hakan', 1000, 'hakan']\n",
      "['okul', 5, 25, 'semih', 9, 1000, 'hakan']\n"
     ]
    }
   ],
   "source": [
    "liste1 = [\"okul\",5,25,\"semih\",9]\n",
    "liste2 = [1000,\"hakan\"]\n",
    "print(liste1)\n",
    "print(liste1[0])\n",
    "print(liste1[0:3])\n",
    "print(liste1[2:])\n",
    "print(liste2*2)\n",
    "print(liste1 + liste2)"
   ]
  },
  {
   "cell_type": "code",
   "execution_count": 1,
   "id": "df127861",
   "metadata": {},
   "outputs": [
    {
     "name": "stdout",
     "output_type": "stream",
     "text": [
      "[5, 15, 35, 25, 10, 45]\n",
      "[5, 35, 25, 10, 45]\n",
      "[5, 10, 25, 35, 45]\n",
      "5\n",
      "Güncel liste: [5, 10, 25, 35, 45]\n",
      "Liste uzunluğu: 5\n",
      "Listenin ilk elemanı: 5\n"
     ]
    }
   ],
   "source": [
    "## eleman ekleme\n",
    "liste = [5,15,35,25,10]\n",
    "liste.append(45)\n",
    "print(liste)\n",
    "\n",
    "## eleman çıkarma\n",
    "liste.remove(15)\n",
    "print(liste)\n",
    "\n",
    "## eleman sıralama\n",
    "liste.sort()\n",
    "print(liste)\n",
    "\n",
    "##uzunluk bulma\n",
    "print(len(liste))\n",
    "\n",
    "print(\"Güncel liste:\", liste)\n",
    "print(\"Liste uzunluğu:\", len(liste))\n",
    "print(\"Listenin ilk elemanı:\", liste[0])\n"
   ]
  },
  {
   "cell_type": "code",
   "execution_count": 3,
   "id": "05381bb5",
   "metadata": {},
   "outputs": [
    {
     "name": "stdout",
     "output_type": "stream",
     "text": [
      "Merhaba, ben Salih Muharrem Kütükte. İstanbul Aydın Üniversitesi'nde yazılım mühendisliği bölümü 4.sınıf öğrencisiyim. Not ortalamam 3.61 ve yaşım 22.\n"
     ]
    }
   ],
   "source": [
    "##KENDİNİ TANITMA\n",
    "\n",
    "ad=\"Salih Muharrem\"\n",
    "soyad=\"Kütükte\"\n",
    "okul=\"İstanbul Aydın Üniversitesi\"\n",
    "bolum=\"yazılım mühendisliği\"\n",
    "sınıf=\"4.sınıf\"\n",
    "GPA=3.61\n",
    "yaş=22\n",
    "print(f\"Merhaba, ben {ad} {soyad}. {okul}'nde {bolum} bölümü {sınıf} öğrencisiyim. Not ortalamam {GPA} ve yaşım {yaş}.\")\n"
   ]
  }
 ],
 "metadata": {
  "kernelspec": {
   "display_name": "Python 3",
   "language": "python",
   "name": "python3"
  },
  "language_info": {
   "codemirror_mode": {
    "name": "ipython",
    "version": 3
   },
   "file_extension": ".py",
   "mimetype": "text/x-python",
   "name": "python",
   "nbconvert_exporter": "python",
   "pygments_lexer": "ipython3",
   "version": "3.11.8"
  }
 },
 "nbformat": 4,
 "nbformat_minor": 5
}
